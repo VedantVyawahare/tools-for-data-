{
 "cells": [
  {
   "cell_type": "markdown",
   "id": "971db24b-51d8-4967-ba8d-e0f39c79a9ad",
   "metadata": {},
   "source": [
    "# Course 2 peer greaded assignment"
   ]
  },
  {
   "cell_type": "markdown",
   "id": "496083b4-1f5b-4245-bad8-aada1b52a974",
   "metadata": {},
   "source": [
    "This is a peer greaded assignment for course 2 of IBM data science on Coursera this nootbook includes general information tools and resources about data science."
   ]
  },
  {
   "cell_type": "markdown",
   "id": "218980ea-f153-4d7c-a0b7-ed3ba701a2d0",
   "metadata": {},
   "source": [
    "1. Python\n",
    "1. Sql\n",
    "1. R\n",
    "1. Julia\n",
    "1. Scala\n"
   ]
  },
  {
   "cell_type": "markdown",
   "id": "662c23b9-86b6-4653-a677-2b295bfcf129",
   "metadata": {},
   "source": [
    "1. TensorFlow\n",
    "1. NumPy\n",
    "1. SciPy \n",
    "1. Pandas\n",
    "1. Matplotlib \n",
    "1. Keras\n",
    "1. SciKit-Learn\n",
    "1. PyTorch"
   ]
  },
  {
   "cell_type": "markdown",
   "id": "7e6135d8-0c95-4b15-a063-ed9f9aa9fbe4",
   "metadata": {},
   "source": [
    "| Tools | Description | Features |\n",
    "| --- | --- | --- |\n",
    "| Python | \tA high-level programming language used for data analysis and machine learning. |NumPy, Pandas, Scikit-learn, Matplotlib, Seaborn, TensorFlow, PyTorch |\n",
    "| --- | --- | --- |\n",
    "| R |\tA statistical programming language used for data analysis and visualization. | ggplot2, dplyr, tidyr, caret, glmnet, randomForest, Shiny |\n",
    "| --- | --- | --- |\n",
    "| SQL | \tA language used for managing relational databases and querying data. | SELECT, FROM, WHERE, GROUP BY, ORDER BY, JOIN|"
   ]
  },
  {
   "cell_type": "markdown",
   "id": "09a01c0a-4a81-4519-9af1-fe9724cc94c6",
   "metadata": {},
   "source": [
    "**Arithmatic expression**\n",
    "1. Addition \"+\"\n",
    "1. Subtraction \"-\"\n",
    "1. Multiplication \"*\"\n",
    "1. Division \"/\""
   ]
  },
  {
   "cell_type": "code",
   "execution_count": 14,
   "id": "f1a9f1b7-f931-4b25-bc9d-707ed9764f3a",
   "metadata": {},
   "outputs": [
    {
     "name": "stdout",
     "output_type": "stream",
     "text": [
      "5 4\n"
     ]
    }
   ],
   "source": [
    "a = 5\n",
    "b = 4\n",
    "c = a*b\n",
    "d = a+b\n",
    "print(a, b)"
   ]
  },
  {
   "cell_type": "code",
   "execution_count": 15,
   "id": "38f0390d-991e-461f-af58-ad5fc585e7c5",
   "metadata": {},
   "outputs": [
    {
     "name": "stdout",
     "output_type": "stream",
     "text": [
      "3.0\n"
     ]
    }
   ],
   "source": [
    "minutes = 180\n",
    "in_hours = float(minutes/60)\n",
    "print(in_hours)"
   ]
  },
  {
   "cell_type": "markdown",
   "id": "6e8ab4ea-d81b-430b-b1a6-656a4c1fdb98",
   "metadata": {},
   "source": [
    "**Objectives of data science**\n",
    "- To extract useful insights from large and complex data sets that can inform business decisions and strategy.\n",
    "- To build predictive models that can forecast future trends and behavior, and help identify areas of opportunity or risk.\n",
    "- To identify patterns and correlations in data that can be used to make more accurate predictions and improve business processes.\n",
    "- To improve the accuracy and efficiency of decision-making through the use of data-driven analysis.\n",
    "- To develop data-driven products and services that can improve the customer experience and drive business growth.\n",
    "- To optimize business operations by identifying inefficiencies and areas for improvement through data analysis\n",
    "- To detect fraud and other forms of criminal activity by analyzing patterns in transactional data.\n",
    "- To conduct market research and customer segmentation analysis to identify target audiences and develop more effective marketing strategies.\n",
    "- To develop recommendation engines and other personalized services that can enhance the customer experience and increase engagement.\n",
    "- To enable real-time decision-making by analyzing streaming data and providing insights and alerts in real-time."
   ]
  },
  {
   "cell_type": "markdown",
   "id": "3e94c5ae-1658-4c54-97bc-7573302ea86e",
   "metadata": {},
   "source": [
    "### Vedant Vyawahare"
   ]
  },
  {
   "cell_type": "code",
   "execution_count": null,
   "id": "f32d4cf9-f6c8-4434-a73e-e00af7b80bd9",
   "metadata": {},
   "outputs": [],
   "source": []
  }
 ],
 "metadata": {
  "kernelspec": {
   "display_name": "Python",
   "language": "python",
   "name": "conda-env-python-py"
  },
  "language_info": {
   "codemirror_mode": {
    "name": "ipython",
    "version": 3
   },
   "file_extension": ".py",
   "mimetype": "text/x-python",
   "name": "python",
   "nbconvert_exporter": "python",
   "pygments_lexer": "ipython3",
   "version": "3.7.12"
  }
 },
 "nbformat": 4,
 "nbformat_minor": 5
}
